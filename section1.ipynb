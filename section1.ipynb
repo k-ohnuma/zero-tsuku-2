{
 "cells": [
  {
   "cell_type": "code",
   "execution_count": 1,
   "metadata": {},
   "outputs": [],
   "source": [
    "import numpy as np"
   ]
  },
  {
   "cell_type": "code",
   "execution_count": 4,
   "metadata": {},
   "outputs": [
    {
     "data": {
      "text/plain": [
       "array([[-1.83133675, -2.46958429,  0.77176088, -0.20767345],\n",
       "       [-4.37467278, -1.2486783 ,  1.18646318, -1.77192196],\n",
       "       [ 1.55237094, -2.11543189,  0.05737451,  2.47920989],\n",
       "       [ 0.41207075, -1.02394036,  0.19857296,  1.94447615],\n",
       "       [-3.58553543, -1.10702107,  1.01500051, -1.12721166],\n",
       "       [ 1.31130851, -0.0781225 , -0.06130043,  2.91930528],\n",
       "       [ 0.99484506, -0.55226948,  0.04177134,  2.53297855],\n",
       "       [-3.45185501, -1.21352628,  0.99668369, -1.05795479],\n",
       "       [ 0.21067994, -0.87908581,  0.22744968,  1.83536461],\n",
       "       [ 0.40698035, -0.80094626,  0.18127067,  2.00887416]])"
      ]
     },
     "execution_count": 4,
     "metadata": {},
     "output_type": "execute_result"
    }
   ],
   "source": [
    "#サンプルデータの全結合層による変換\n",
    "\n",
    "#重み\n",
    "w1 = np.random.randn(2, 4)\n",
    "#バイアス（broadcastで(10, 4)に）\n",
    "b1 = np.random.randn(4)\n",
    "#入力\n",
    "x = np.random.randn(10, 2)\n",
    "h = np.dot(x, w1) + b1\n",
    "h"
   ]
  },
  {
   "cell_type": "code",
   "execution_count": 7,
   "metadata": {},
   "outputs": [
    {
     "data": {
      "text/plain": [
       "array([[0.1380791 , 0.07801813, 0.68390169, 0.44826743],\n",
       "       [0.01243567, 0.22292901, 0.76610791, 0.14530348],\n",
       "       [0.82525591, 0.10760595, 0.51433969, 0.92267144],\n",
       "       [0.6015843 , 0.26426058, 0.54948076, 0.87484307],\n",
       "       [0.02697405, 0.24842667, 0.73399762, 0.24467605],\n",
       "       [0.78773203, 0.4804793 , 0.48467969, 0.94879256],\n",
       "       [0.73004385, 0.36533803, 0.51044132, 0.92642164],\n",
       "       [0.03071359, 0.22907771, 0.73040605, 0.25770049],\n",
       "       [0.55247603, 0.29336726, 0.55661854, 0.86239957],\n",
       "       [0.6003636 , 0.30982314, 0.54519398, 0.88172566]])"
      ]
     },
     "execution_count": 7,
     "metadata": {},
     "output_type": "execute_result"
    }
   ],
   "source": [
    "#sigmoid func\n",
    "def sigmoid(x):\n",
    "    return 1 / (1 + np.exp(-x))\n",
    "\n",
    "a = sigmoid(h)\n",
    "a"
   ]
  },
  {
   "cell_type": "code",
   "execution_count": 10,
   "metadata": {},
   "outputs": [
    {
     "data": {
      "text/plain": [
       "array([[-0.98917503,  0.11644575,  1.54069764],\n",
       "       [-0.8541167 ,  0.0272978 ,  1.96437305],\n",
       "       [-0.9921752 ,  0.12908969,  1.51891029],\n",
       "       [-0.96831838,  0.18009323,  1.55151048],\n",
       "       [-0.92555815,  0.07277556,  1.79475401],\n",
       "       [-0.96082528,  0.19737066,  1.53832013],\n",
       "       [-1.01006753,  0.21363428,  1.35696903],\n",
       "       [-0.88229161,  0.10563184,  1.81545268],\n",
       "       [-0.92937193, -0.05645574,  1.89797262],\n",
       "       [-0.98433816,  0.22035699,  1.43293044]])"
      ]
     },
     "execution_count": 10,
     "metadata": {},
     "output_type": "execute_result"
    }
   ],
   "source": [
    "#入力2, 隠れ層4, 出力3の2層のNN\n",
    "def sigmoid(x):\n",
    "    return 1 / (1 + np.exp(-x))\n",
    "\n",
    "x = np.random.randn(10, 2)\n",
    "w1 = np.random.randn(2, 4)\n",
    "b1 = np.random.randn(4)\n",
    "w2 = np.random.randn(4, 3)\n",
    "b2 = np.random.randn(3)\n",
    "\n",
    "#1層目\n",
    "h = np.dot(x, w1) + b1\n",
    "#活性化関数で非線形なこうか\n",
    "a = sigmoid(h)\n",
    "#2層目\n",
    "s = np.dot(a, w2) + b2\n",
    "s\n",
    "\n",
    "#→3クラス分類が可能"
   ]
  },
  {
   "cell_type": "code",
   "execution_count": 11,
   "metadata": {},
   "outputs": [],
   "source": [
    "### sigmoid, affineレイヤの実装\n",
    "class sigmoid:\n",
    "    def __init__(self) -> None:\n",
    "        self.params = []\n",
    "        \n",
    "    def forward(self, x):\n",
    "        return 1 / (1 + np.exp(-x))\n",
    "    \n",
    "class affine:\n",
    "    def __init__(self, W, b) -> None:\n",
    "        self.params = [W, b]\n",
    "        \n",
    "    def forward(self, x):\n",
    "        W, b = self.params\n",
    "        out = np.dot(x, W) + b\n",
    "        return out\n",
    "\n",
    "\n",
    "        "
   ]
  },
  {
   "cell_type": "code",
   "execution_count": 19,
   "metadata": {},
   "outputs": [
    {
     "data": {
      "text/plain": [
       "array([[0.71903875, 0.39917948, 0.63137393, 0.44890583],\n",
       "       [0.50245349, 0.26159967, 0.3845071 , 0.65479194],\n",
       "       [0.39140365, 0.29995038, 0.35654513, 0.58185955],\n",
       "       [0.41516671, 0.25144435, 0.32856765, 0.66630421],\n",
       "       [0.20639642, 0.2212375 , 0.19431403, 0.70283012],\n",
       "       [0.08611293, 0.04393964, 0.03324068, 0.96873791],\n",
       "       [0.64611981, 0.28867549, 0.49361483, 0.61928024],\n",
       "       [0.57210641, 0.43808371, 0.56973718, 0.38092998],\n",
       "       [0.09221711, 0.03307531, 0.02800726, 0.97953677],\n",
       "       [0.14031373, 0.05889541, 0.05619197, 0.95371097]])"
      ]
     },
     "execution_count": 19,
     "metadata": {},
     "output_type": "execute_result"
    }
   ],
   "source": [
    "aff = affine(np.random.randn(2, 4), np.random.randn(4))\n",
    "sig = sigmoid()\n",
    "h = aff.forward(np.random.randn(10, 2))\n",
    "a = sig.forward(h)\n",
    "a"
   ]
  },
  {
   "cell_type": "code",
   "execution_count": 20,
   "metadata": {},
   "outputs": [],
   "source": [
    "#affine and sigmoid matometa class twolayernet\n",
    "class TwoLayerNet:\n",
    "    def __init__(self, input_size, hidden_size, output_size) -> None:\n",
    "        I, H, O = input_size, hidden_size, output_size\n",
    "        \n",
    "        #重みとバイアスの初期化\n",
    "        W1 = np.random.randn(I, H)\n",
    "        b1 = np.random.randn(H)\n",
    "        W2 = np.random.randn(H, O)\n",
    "        b2 = np.random.randn(O)\n",
    "        \n",
    "        #レイヤの生成\n",
    "        self.layers = [\n",
    "            affine(W1, b1),\n",
    "            sigmoid(),\n",
    "            affine(W2, b2)\n",
    "        ]\n",
    "        \n",
    "        self.params = []\n",
    "        for layer in self.layers:\n",
    "            self.params += layer.params\n",
    "            \n",
    "    def predict(self, x):\n",
    "        for layer in self.layers:\n",
    "            x = layer.forward(x)\n",
    "        return x\n",
    "    \n"
   ]
  },
  {
   "cell_type": "code",
   "execution_count": 22,
   "metadata": {},
   "outputs": [
    {
     "data": {
      "text/plain": [
       "array([[-0.88672255,  0.38092832, -1.6032961 ],\n",
       "       [ 0.55379304, -0.24550236, -1.67915387],\n",
       "       [-0.85047429,  0.39714641, -1.58079351],\n",
       "       [-0.22073267,  0.30212753, -1.38203107],\n",
       "       [ 1.15694778, -0.30080611, -1.32320232],\n",
       "       [ 1.32947863, -0.3910915 , -1.35905491],\n",
       "       [ 1.24708348, -0.28281811, -1.23952498],\n",
       "       [ 1.44692547, -0.34399661, -1.22947999],\n",
       "       [-0.20587199,  0.19792387, -1.54093323],\n",
       "       [ 0.76548073, -0.06572363, -1.21969711]])"
      ]
     },
     "execution_count": 22,
     "metadata": {},
     "output_type": "execute_result"
    }
   ],
   "source": [
    "x = np.random.randn(10, 2)\n",
    "model = TwoLayerNet(2, 4, 3)\n",
    "model.predict(x)"
   ]
  },
  {
   "cell_type": "code",
   "execution_count": null,
   "metadata": {},
   "outputs": [],
   "source": []
  }
 ],
 "metadata": {
  "kernelspec": {
   "display_name": "Python 3.9.13 ('base')",
   "language": "python",
   "name": "python3"
  },
  "language_info": {
   "codemirror_mode": {
    "name": "ipython",
    "version": 3
   },
   "file_extension": ".py",
   "mimetype": "text/x-python",
   "name": "python",
   "nbconvert_exporter": "python",
   "pygments_lexer": "ipython3",
   "version": "3.9.13"
  },
  "orig_nbformat": 4,
  "vscode": {
   "interpreter": {
    "hash": "40d3a090f54c6569ab1632332b64b2c03c39dcf918b08424e98f38b5ae0af88f"
   }
  }
 },
 "nbformat": 4,
 "nbformat_minor": 2
}
